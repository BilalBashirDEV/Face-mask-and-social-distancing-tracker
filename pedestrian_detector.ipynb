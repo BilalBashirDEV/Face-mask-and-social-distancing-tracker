{
 "cells": [
  {
   "cell_type": "code",
   "execution_count": 6,
   "metadata": {},
   "outputs": [
    {
     "ename": "ModuleNotFoundError",
     "evalue": "No module named 'cv2'",
     "output_type": "error",
     "traceback": [
      "\u001b[1;31m---------------------------------------------------------------------------\u001b[0m",
      "\u001b[1;31mModuleNotFoundError\u001b[0m                       Traceback (most recent call last)",
      "\u001b[1;32m<ipython-input-6-369aed6a80ba>\u001b[0m in \u001b[0;36m<module>\u001b[1;34m\u001b[0m\n\u001b[1;32m----> 1\u001b[1;33m \u001b[1;32mimport\u001b[0m \u001b[0mcv2\u001b[0m\u001b[1;33m\u001b[0m\u001b[1;33m\u001b[0m\u001b[0m\n\u001b[0m\u001b[0;32m      2\u001b[0m \u001b[1;32mimport\u001b[0m \u001b[0mimutils\u001b[0m\u001b[1;33m\u001b[0m\u001b[1;33m\u001b[0m\u001b[0m\n\u001b[0;32m      3\u001b[0m \u001b[1;33m\u001b[0m\u001b[0m\n\u001b[0;32m      4\u001b[0m \u001b[1;31m# Initializing the HOG person\u001b[0m\u001b[1;33m\u001b[0m\u001b[1;33m\u001b[0m\u001b[1;33m\u001b[0m\u001b[0m\n\u001b[0;32m      5\u001b[0m \u001b[1;31m# detector\u001b[0m\u001b[1;33m\u001b[0m\u001b[1;33m\u001b[0m\u001b[1;33m\u001b[0m\u001b[0m\n",
      "\u001b[1;31mModuleNotFoundError\u001b[0m: No module named 'cv2'"
     ]
    }
   ],
   "source": [
    "import cv2 \n",
    "import imutils \n",
    "\n",
    "# Initializing the HOG person \n",
    "# detector \n",
    "hog = cv2.HOGDescriptor() \n",
    "hog.setSVMDetector(cv2.HOGDescriptor_getDefaultPeopleDetector()) \n",
    "\n",
    "cap = cv2.VideoCapture(0) \n",
    "\n",
    "while cap.isOpened(): \n",
    "    # Reading the video stream \n",
    "    ret, image = cap.read() \n",
    "    if ret: \n",
    "        image = imutils.resize(image,width=min(400, image.shape[1])) \n",
    "\n",
    "        # Detecting all the regions \n",
    "        # in the Image that has a \n",
    "        # pedestrians inside it \n",
    "        (regions, _) = hog.detectMultiScale(image,winStride=(4, 4),padding=(4, 4),scale=1.05) \n",
    "\n",
    "        # Drawing the regions in the \n",
    "        # Image \n",
    "        for (x, y, w, h) in regions: \n",
    "            cv2.rectangle(image, (x, y), (x + w, y + h), (0, 0, 255), 2) \n",
    "\n",
    "        # Showing the output Image \n",
    "        cv2.imshow(\"Image\", image) \n",
    "        if cv2.waitKey(25) & 0xFF == ord('q'): \n",
    "            break\n",
    "        else: \n",
    "            break\n",
    "\n",
    "cap.release() \n",
    "cv2.destroyAllWindows() \n"
   ]
  },
  {
   "cell_type": "code",
   "execution_count": null,
   "metadata": {},
   "outputs": [],
   "source": []
  }
 ],
 "metadata": {
  "kernelspec": {
   "display_name": "Python 3.7.4 64-bit ('base': conda)",
   "language": "python",
   "name": "python37464bitbasecondab34dfa46d99d406ab663387bc7096625"
  },
  "language_info": {
   "codemirror_mode": {
    "name": "ipython",
    "version": 3
   },
   "file_extension": ".py",
   "mimetype": "text/x-python",
   "name": "python",
   "nbconvert_exporter": "python",
   "pygments_lexer": "ipython3",
   "version": "3.7.4"
  }
 },
 "nbformat": 4,
 "nbformat_minor": 4
}
